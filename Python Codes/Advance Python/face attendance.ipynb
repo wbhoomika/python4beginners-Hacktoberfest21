{
 "cells": [
  {
   "cell_type": "code",
   "execution_count": null,
   "metadata": {},
   "outputs": [
    {
     "name": "stdout",
     "output_type": "stream",
     "text": [
      "C:\\Users\\Kuwar\\photo array\\ \n",
      "(500, 1500)\n"
     ]
    }
   ],
   "source": [
    "import cv2 \n",
    "import os\n",
    "import numpy as np\n",
    "cam=cv2.VideoCapture(0)\n",
    "dataset=r\"C:\\Users\\Kuwar\\photo array\\ \"\n",
    "name=''\n",
    "haar = cv2.CascadeClassifier('D:\\haarcascade_frontalface_default.xml')\n",
    "data=[]\n",
    "print(dataset)\n",
    "name=True\n",
    "re,im=cam.read()\n",
    "while(name):\n",
    "        ret, img = cam.read()\n",
    "        #gray = cv.cvtColor(img, cv.COLOR_BGR2GRAY)\n",
    "        faces = haar.detectMultiScale(img, 1.3, 5)\n",
    "        for face in faces:\n",
    "                x, y, w, h = face\n",
    "                offset = 5\n",
    "                face_offset = img[y - offset:y + h + offset, x - offset:x + w + offset]\n",
    "                face_selection = cv2.resize(face_offset, (500, 500))\n",
    "                data.append(face_selection)\n",
    "        for  (x, y, w, h) in faces:\n",
    "                cv2.rectangle(img,(x,y),(x+w,y+h),(255,0,0),2)\n",
    "                cv2.imshow('image',img)\n",
    "                if cv2.waitKey(0) & 0xff==ord('q'):\n",
    "                    break\n",
    "                    \n",
    "       \n",
    "        for  (x, y, w, h) in faces:                \n",
    "                data = np.array(face_selection)\n",
    "                data = data.reshape((data.shape[0], -1))\n",
    "                print(data.shape)\n",
    "                name = input(\"file_name\")\n",
    "                np.save(dataset + name, data)\n",
    "                print(\"Dataset saved at : {}\".format(dataset + name + '.npy'))\n",
    "\n",
    "        #for  (x, y, w, h) in faces[:1]:\n",
    "            \n",
    "                cam.release()\n",
    "                cv2.destroyAllWindows()\n",
    "                name=False\n",
    "        print(f'Number of faces found = {len(faces)}')"
   ]
  },
  {
   "cell_type": "code",
   "execution_count": null,
   "metadata": {},
   "outputs": [],
   "source": []
  },
  {
   "cell_type": "code",
   "execution_count": null,
   "metadata": {},
   "outputs": [],
   "source": []
  },
  {
   "cell_type": "code",
   "execution_count": null,
   "metadata": {},
   "outputs": [],
   "source": []
  },
  {
   "cell_type": "code",
   "execution_count": null,
   "metadata": {},
   "outputs": [],
   "source": []
  }
 ],
 "metadata": {
  "kernelspec": {
   "display_name": "Python 3",
   "language": "python",
   "name": "python3"
  },
  "language_info": {
   "codemirror_mode": {
    "name": "ipython",
    "version": 3
   },
   "file_extension": ".py",
   "mimetype": "text/x-python",
   "name": "python",
   "nbconvert_exporter": "python",
   "pygments_lexer": "ipython3",
   "version": "3.8.3"
  }
 },
 "nbformat": 4,
 "nbformat_minor": 4
}
