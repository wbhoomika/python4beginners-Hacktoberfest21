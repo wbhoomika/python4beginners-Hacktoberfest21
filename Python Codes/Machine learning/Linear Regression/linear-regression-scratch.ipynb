{
 "cells": [
  {
   "cell_type": "code",
   "execution_count": 1,
   "metadata": {
    "_cell_guid": "b1076dfc-b9ad-4769-8c92-a6c4dae69d19",
    "_uuid": "8f2839f25d086af736a60e9eeb907d3b93b6e0e5",
    "execution": {
     "iopub.execute_input": "2021-09-16T13:29:05.600348Z",
     "iopub.status.busy": "2021-09-16T13:29:05.600022Z",
     "iopub.status.idle": "2021-09-16T13:29:05.610746Z",
     "shell.execute_reply": "2021-09-16T13:29:05.61008Z",
     "shell.execute_reply.started": "2021-09-16T13:29:05.600318Z"
    }
   },
   "outputs": [],
   "source": [
    "import numpy as np \n",
    "import pandas as pd "
   ]
  },
  {
   "cell_type": "code",
   "execution_count": 2,
   "metadata": {
    "execution": {
     "iopub.execute_input": "2021-09-16T13:29:05.613252Z",
     "iopub.status.busy": "2021-09-16T13:29:05.612888Z",
     "iopub.status.idle": "2021-09-16T13:29:05.657873Z",
     "shell.execute_reply": "2021-09-16T13:29:05.657263Z",
     "shell.execute_reply.started": "2021-09-16T13:29:05.613214Z"
    }
   },
   "outputs": [],
   "source": [
    "df=pd.read_csv('housing.csv')"
   ]
  },
  {
   "cell_type": "code",
   "execution_count": 3,
   "metadata": {
    "execution": {
     "iopub.execute_input": "2021-09-16T13:29:05.660016Z",
     "iopub.status.busy": "2021-09-16T13:29:05.659412Z",
     "iopub.status.idle": "2021-09-16T13:29:05.702147Z",
     "shell.execute_reply": "2021-09-16T13:29:05.701279Z",
     "shell.execute_reply.started": "2021-09-16T13:29:05.659961Z"
    }
   },
   "outputs": [
    {
     "data": {
      "text/html": [
       "<div>\n",
       "<style scoped>\n",
       "    .dataframe tbody tr th:only-of-type {\n",
       "        vertical-align: middle;\n",
       "    }\n",
       "\n",
       "    .dataframe tbody tr th {\n",
       "        vertical-align: top;\n",
       "    }\n",
       "\n",
       "    .dataframe thead th {\n",
       "        text-align: right;\n",
       "    }\n",
       "</style>\n",
       "<table border=\"1\" class=\"dataframe\">\n",
       "  <thead>\n",
       "    <tr style=\"text-align: right;\">\n",
       "      <th></th>\n",
       "      <th>count</th>\n",
       "      <th>mean</th>\n",
       "      <th>std</th>\n",
       "      <th>min</th>\n",
       "      <th>25%</th>\n",
       "      <th>50%</th>\n",
       "      <th>75%</th>\n",
       "      <th>max</th>\n",
       "    </tr>\n",
       "  </thead>\n",
       "  <tbody>\n",
       "    <tr>\n",
       "      <th>longitude</th>\n",
       "      <td>20640.0</td>\n",
       "      <td>-119.569704</td>\n",
       "      <td>2.003532</td>\n",
       "      <td>-124.3500</td>\n",
       "      <td>-121.8000</td>\n",
       "      <td>-118.4900</td>\n",
       "      <td>-118.01000</td>\n",
       "      <td>-114.3100</td>\n",
       "    </tr>\n",
       "    <tr>\n",
       "      <th>latitude</th>\n",
       "      <td>20640.0</td>\n",
       "      <td>35.631861</td>\n",
       "      <td>2.135952</td>\n",
       "      <td>32.5400</td>\n",
       "      <td>33.9300</td>\n",
       "      <td>34.2600</td>\n",
       "      <td>37.71000</td>\n",
       "      <td>41.9500</td>\n",
       "    </tr>\n",
       "    <tr>\n",
       "      <th>housing_median_age</th>\n",
       "      <td>20640.0</td>\n",
       "      <td>28.639486</td>\n",
       "      <td>12.585558</td>\n",
       "      <td>1.0000</td>\n",
       "      <td>18.0000</td>\n",
       "      <td>29.0000</td>\n",
       "      <td>37.00000</td>\n",
       "      <td>52.0000</td>\n",
       "    </tr>\n",
       "    <tr>\n",
       "      <th>total_rooms</th>\n",
       "      <td>20640.0</td>\n",
       "      <td>2635.763081</td>\n",
       "      <td>2181.615252</td>\n",
       "      <td>2.0000</td>\n",
       "      <td>1447.7500</td>\n",
       "      <td>2127.0000</td>\n",
       "      <td>3148.00000</td>\n",
       "      <td>39320.0000</td>\n",
       "    </tr>\n",
       "    <tr>\n",
       "      <th>total_bedrooms</th>\n",
       "      <td>20433.0</td>\n",
       "      <td>537.870553</td>\n",
       "      <td>421.385070</td>\n",
       "      <td>1.0000</td>\n",
       "      <td>296.0000</td>\n",
       "      <td>435.0000</td>\n",
       "      <td>647.00000</td>\n",
       "      <td>6445.0000</td>\n",
       "    </tr>\n",
       "    <tr>\n",
       "      <th>population</th>\n",
       "      <td>20640.0</td>\n",
       "      <td>1425.476744</td>\n",
       "      <td>1132.462122</td>\n",
       "      <td>3.0000</td>\n",
       "      <td>787.0000</td>\n",
       "      <td>1166.0000</td>\n",
       "      <td>1725.00000</td>\n",
       "      <td>35682.0000</td>\n",
       "    </tr>\n",
       "    <tr>\n",
       "      <th>households</th>\n",
       "      <td>20640.0</td>\n",
       "      <td>499.539680</td>\n",
       "      <td>382.329753</td>\n",
       "      <td>1.0000</td>\n",
       "      <td>280.0000</td>\n",
       "      <td>409.0000</td>\n",
       "      <td>605.00000</td>\n",
       "      <td>6082.0000</td>\n",
       "    </tr>\n",
       "    <tr>\n",
       "      <th>median_income</th>\n",
       "      <td>20640.0</td>\n",
       "      <td>3.870671</td>\n",
       "      <td>1.899822</td>\n",
       "      <td>0.4999</td>\n",
       "      <td>2.5634</td>\n",
       "      <td>3.5348</td>\n",
       "      <td>4.74325</td>\n",
       "      <td>15.0001</td>\n",
       "    </tr>\n",
       "    <tr>\n",
       "      <th>median_house_value</th>\n",
       "      <td>20640.0</td>\n",
       "      <td>206855.816909</td>\n",
       "      <td>115395.615874</td>\n",
       "      <td>14999.0000</td>\n",
       "      <td>119600.0000</td>\n",
       "      <td>179700.0000</td>\n",
       "      <td>264725.00000</td>\n",
       "      <td>500001.0000</td>\n",
       "    </tr>\n",
       "  </tbody>\n",
       "</table>\n",
       "</div>"
      ],
      "text/plain": [
       "                      count           mean            std         min  \\\n",
       "longitude           20640.0    -119.569704       2.003532   -124.3500   \n",
       "latitude            20640.0      35.631861       2.135952     32.5400   \n",
       "housing_median_age  20640.0      28.639486      12.585558      1.0000   \n",
       "total_rooms         20640.0    2635.763081    2181.615252      2.0000   \n",
       "total_bedrooms      20433.0     537.870553     421.385070      1.0000   \n",
       "population          20640.0    1425.476744    1132.462122      3.0000   \n",
       "households          20640.0     499.539680     382.329753      1.0000   \n",
       "median_income       20640.0       3.870671       1.899822      0.4999   \n",
       "median_house_value  20640.0  206855.816909  115395.615874  14999.0000   \n",
       "\n",
       "                            25%          50%           75%          max  \n",
       "longitude             -121.8000    -118.4900    -118.01000    -114.3100  \n",
       "latitude                33.9300      34.2600      37.71000      41.9500  \n",
       "housing_median_age      18.0000      29.0000      37.00000      52.0000  \n",
       "total_rooms           1447.7500    2127.0000    3148.00000   39320.0000  \n",
       "total_bedrooms         296.0000     435.0000     647.00000    6445.0000  \n",
       "population             787.0000    1166.0000    1725.00000   35682.0000  \n",
       "households             280.0000     409.0000     605.00000    6082.0000  \n",
       "median_income            2.5634       3.5348       4.74325      15.0001  \n",
       "median_house_value  119600.0000  179700.0000  264725.00000  500001.0000  "
      ]
     },
     "execution_count": 3,
     "metadata": {},
     "output_type": "execute_result"
    }
   ],
   "source": [
    "df.describe().T"
   ]
  },
  {
   "cell_type": "code",
   "execution_count": 4,
   "metadata": {
    "execution": {
     "iopub.execute_input": "2021-09-16T13:29:05.70411Z",
     "iopub.status.busy": "2021-09-16T13:29:05.703386Z",
     "iopub.status.idle": "2021-09-16T13:29:05.713675Z",
     "shell.execute_reply": "2021-09-16T13:29:05.712822Z",
     "shell.execute_reply.started": "2021-09-16T13:29:05.704072Z"
    }
   },
   "outputs": [
    {
     "name": "stdout",
     "output_type": "stream",
     "text": [
      "['total_bedrooms']\n"
     ]
    }
   ],
   "source": [
    "nan_values = df.isna()\n",
    "\n",
    "nan_columns = nan_values.any()\n",
    "\n",
    "\n",
    "columns_with_nan = df.columns[nan_columns].tolist()\n",
    "\n",
    "print(columns_with_nan)"
   ]
  },
  {
   "cell_type": "code",
   "execution_count": 5,
   "metadata": {
    "execution": {
     "iopub.execute_input": "2021-09-16T13:29:05.717804Z",
     "iopub.status.busy": "2021-09-16T13:29:05.717596Z",
     "iopub.status.idle": "2021-09-16T13:29:05.726734Z",
     "shell.execute_reply": "2021-09-16T13:29:05.725736Z",
     "shell.execute_reply.started": "2021-09-16T13:29:05.717772Z"
    }
   },
   "outputs": [],
   "source": [
    "df.dropna(subset = [\"total_bedrooms\"], inplace=True)"
   ]
  },
  {
   "cell_type": "code",
   "execution_count": 6,
   "metadata": {
    "execution": {
     "iopub.execute_input": "2021-09-16T13:29:05.729016Z",
     "iopub.status.busy": "2021-09-16T13:29:05.728658Z",
     "iopub.status.idle": "2021-09-16T13:29:05.739862Z",
     "shell.execute_reply": "2021-09-16T13:29:05.7389Z",
     "shell.execute_reply.started": "2021-09-16T13:29:05.72896Z"
    }
   },
   "outputs": [
    {
     "data": {
      "text/plain": [
       "0"
      ]
     },
     "execution_count": 6,
     "metadata": {},
     "output_type": "execute_result"
    }
   ],
   "source": [
    "df['total_bedrooms'].isna().sum()"
   ]
  },
  {
   "cell_type": "code",
   "execution_count": 7,
   "metadata": {
    "execution": {
     "iopub.execute_input": "2021-09-16T13:29:05.741773Z",
     "iopub.status.busy": "2021-09-16T13:29:05.741519Z",
     "iopub.status.idle": "2021-09-16T13:29:05.752076Z",
     "shell.execute_reply": "2021-09-16T13:29:05.751282Z",
     "shell.execute_reply.started": "2021-09-16T13:29:05.741746Z"
    }
   },
   "outputs": [
    {
     "data": {
      "text/plain": [
       "False"
      ]
     },
     "execution_count": 7,
     "metadata": {},
     "output_type": "execute_result"
    }
   ],
   "source": [
    "df.isnull().values.any()"
   ]
  },
  {
   "cell_type": "code",
   "execution_count": 8,
   "metadata": {
    "execution": {
     "iopub.execute_input": "2021-09-16T13:29:05.754049Z",
     "iopub.status.busy": "2021-09-16T13:29:05.753755Z",
     "iopub.status.idle": "2021-09-16T13:29:05.760095Z",
     "shell.execute_reply": "2021-09-16T13:29:05.759431Z",
     "shell.execute_reply.started": "2021-09-16T13:29:05.754017Z"
    }
   },
   "outputs": [],
   "source": [
    "import seaborn as sns"
   ]
  },
  {
   "cell_type": "code",
   "execution_count": 9,
   "metadata": {
    "execution": {
     "iopub.execute_input": "2021-09-16T13:29:05.761486Z",
     "iopub.status.busy": "2021-09-16T13:29:05.76123Z",
     "iopub.status.idle": "2021-09-16T13:29:05.769353Z",
     "shell.execute_reply": "2021-09-16T13:29:05.768806Z",
     "shell.execute_reply.started": "2021-09-16T13:29:05.761459Z"
    }
   },
   "outputs": [],
   "source": [
    "import matplotlib.pyplot as plt"
   ]
  },
  {
   "cell_type": "code",
   "execution_count": 10,
   "metadata": {
    "execution": {
     "iopub.execute_input": "2021-09-16T13:29:05.770463Z",
     "iopub.status.busy": "2021-09-16T13:29:05.770216Z",
     "iopub.status.idle": "2021-09-16T13:29:06.591495Z",
     "shell.execute_reply": "2021-09-16T13:29:06.590528Z",
     "shell.execute_reply.started": "2021-09-16T13:29:05.77043Z"
    }
   },
   "outputs": [
    {
     "data": {
      "text/plain": [
       "<AxesSubplot:>"
      ]
     },
     "execution_count": 10,
     "metadata": {},
     "output_type": "execute_result"
    },
    {
     "data": {
      "image/png": "[encoded data removed]",
      "text/plain": [
       "<Figure size 1440x720 with 2 Axes>"
      ]
     },
     "metadata": {
      "needs_background": "light"
     },
     "output_type": "display_data"
    }
   ],
   "source": [
    "plt.figure(figsize = (20,10))       \n",
    "sns.heatmap(df.corr(),annot = True)"
   ]
  },
  {
   "cell_type": "code",
   "execution_count": 11,
   "metadata": {
    "execution": {
     "iopub.execute_input": "2021-09-16T13:29:06.594306Z",
     "iopub.status.busy": "2021-09-16T13:29:06.594003Z",
     "iopub.status.idle": "2021-09-16T13:29:06.873274Z",
     "shell.execute_reply": "2021-09-16T13:29:06.87274Z",
     "shell.execute_reply.started": "2021-09-16T13:29:06.594259Z"
    }
   },
   "outputs": [
    {
     "data": {
      "image/png": "[encoded data removed]",
      "text/plain": [
       "<Figure size 432x288 with 1 Axes>"
      ]
     },
     "metadata": {
      "needs_background": "light"
     },
     "output_type": "display_data"
    }
   ],
   "source": [
    "sns.boxplot(x = df[\"ocean_proximity\"], y = df[\"median_house_value\"]);"
   ]
  },
  {
   "cell_type": "code",
   "execution_count": 12,
   "metadata": {
    "execution": {
     "iopub.execute_input": "2021-09-16T13:29:06.874995Z",
     "iopub.status.busy": "2021-09-16T13:29:06.874539Z",
     "iopub.status.idle": "2021-09-16T13:29:06.88258Z",
     "shell.execute_reply": "2021-09-16T13:29:06.881917Z",
     "shell.execute_reply.started": "2021-09-16T13:29:06.874939Z"
    }
   },
   "outputs": [
    {
     "data": {
      "text/plain": [
       "array(['NEAR BAY', '<1H OCEAN', 'INLAND', 'NEAR OCEAN', 'ISLAND'],\n",
       "      dtype=object)"
      ]
     },
     "execution_count": 12,
     "metadata": {},
     "output_type": "execute_result"
    }
   ],
   "source": [
    "df['ocean_proximity'].unique()"
   ]
  },
  {
   "cell_type": "code",
   "execution_count": 13,
   "metadata": {
    "execution": {
     "iopub.execute_input": "2021-09-16T13:29:06.883721Z",
     "iopub.status.busy": "2021-09-16T13:29:06.88352Z",
     "iopub.status.idle": "2021-09-16T13:29:06.895242Z",
     "shell.execute_reply": "2021-09-16T13:29:06.894516Z",
     "shell.execute_reply.started": "2021-09-16T13:29:06.883698Z"
    }
   },
   "outputs": [],
   "source": [
    "OC_mapping = {\"INLAND\": 0, \"<1H OCEAN\": 1 , \"NEAR OCEAN\":2 ,\"NEAR BAY\": 3,\"ISLAND\":4}\n",
    "df['ocean_proximity'] = df['ocean_proximity'].map(OC_mapping)"
   ]
  },
  {
   "cell_type": "code",
   "execution_count": 14,
   "metadata": {
    "execution": {
     "iopub.execute_input": "2021-09-16T13:29:06.896786Z",
     "iopub.status.busy": "2021-09-16T13:29:06.896368Z",
     "iopub.status.idle": "2021-09-16T13:29:06.912828Z",
     "shell.execute_reply": "2021-09-16T13:29:06.912154Z",
     "shell.execute_reply.started": "2021-09-16T13:29:06.896744Z"
    }
   },
   "outputs": [
    {
     "data": {
      "text/html": [
       "<div>\n",
       "<style scoped>\n",
       "    .dataframe tbody tr th:only-of-type {\n",
       "        vertical-align: middle;\n",
       "    }\n",
       "\n",
       "    .dataframe tbody tr th {\n",
       "        vertical-align: top;\n",
       "    }\n",
       "\n",
       "    .dataframe thead th {\n",
       "        text-align: right;\n",
       "    }\n",
       "</style>\n",
       "<table border=\"1\" class=\"dataframe\">\n",
       "  <thead>\n",
       "    <tr style=\"text-align: right;\">\n",
       "      <th></th>\n",
       "    </tr>\n",
       "  </thead>\n",
       "  <tbody>\n",
       "    <tr>\n",
       "      <th>0</th>\n",
       "    </tr>\n",
       "    <tr>\n",
       "      <th>1</th>\n",
       "    </tr>\n",
       "    <tr>\n",
       "      <th>2</th>\n",
       "    </tr>\n",
       "    <tr>\n",
       "      <th>3</th>\n",
       "    </tr>\n",
       "    <tr>\n",
       "      <th>4</th>\n",
       "    </tr>\n",
       "    <tr>\n",
       "      <th>...</th>\n",
       "    </tr>\n",
       "    <tr>\n",
       "      <th>20635</th>\n",
       "    </tr>\n",
       "    <tr>\n",
       "      <th>20636</th>\n",
       "    </tr>\n",
       "    <tr>\n",
       "      <th>20637</th>\n",
       "    </tr>\n",
       "    <tr>\n",
       "      <th>20638</th>\n",
       "    </tr>\n",
       "    <tr>\n",
       "      <th>20639</th>\n",
       "    </tr>\n",
       "  </tbody>\n",
       "</table>\n",
       "<p>20433 rows × 0 columns</p>\n",
       "</div>"
      ],
      "text/plain": [
       "Empty DataFrame\n",
       "Columns: []\n",
       "Index: [0, 1, 2, 3, 4, 5, 6, 7, 8, 9, 10, 11, 12, 13, 14, 15, 16, 17, 18, 19, 20, 21, 22, 23, 24, 25, 26, 27, 28, 29, 30, 31, 32, 33, 34, 35, 36, 37, 38, 39, 40, 41, 42, 43, 44, 45, 46, 47, 48, 49, 50, 51, 52, 53, 54, 55, 56, 57, 58, 59, 60, 61, 62, 63, 64, 65, 66, 67, 68, 69, 70, 71, 72, 73, 74, 75, 76, 77, 78, 79, 80, 81, 82, 83, 84, 85, 86, 87, 88, 89, 90, 91, 92, 93, 94, 95, 96, 97, 98, 99, ...]\n",
       "\n",
       "[20433 rows x 0 columns]"
      ]
     },
     "execution_count": 14,
     "metadata": {},
     "output_type": "execute_result"
    }
   ],
   "source": [
    "df[df.columns[df.isnull().any()]]"
   ]
  },
  {
   "cell_type": "code",
   "execution_count": 15,
   "metadata": {
    "execution": {
     "iopub.execute_input": "2021-09-16T13:29:06.914451Z",
     "iopub.status.busy": "2021-09-16T13:29:06.913848Z",
     "iopub.status.idle": "2021-09-16T13:29:06.917964Z",
     "shell.execute_reply": "2021-09-16T13:29:06.917084Z",
     "shell.execute_reply.started": "2021-09-16T13:29:06.914425Z"
    }
   },
   "outputs": [],
   "source": [
    "result = df['median_house_value'].to_numpy()"
   ]
  },
  {
   "cell_type": "code",
   "execution_count": 16,
   "metadata": {
    "execution": {
     "iopub.execute_input": "2021-09-16T13:29:06.919352Z",
     "iopub.status.busy": "2021-09-16T13:29:06.919068Z",
     "iopub.status.idle": "2021-09-16T13:29:06.92893Z",
     "shell.execute_reply": "2021-09-16T13:29:06.928392Z",
     "shell.execute_reply.started": "2021-09-16T13:29:06.919329Z"
    }
   },
   "outputs": [],
   "source": [
    "df.drop('median_house_value',axis=1,inplace=True)"
   ]
  },
  {
   "cell_type": "code",
   "execution_count": 17,
   "metadata": {
    "execution": {
     "iopub.execute_input": "2021-09-16T13:29:06.931453Z",
     "iopub.status.busy": "2021-09-16T13:29:06.931237Z",
     "iopub.status.idle": "2021-09-16T13:29:06.952916Z",
     "shell.execute_reply": "2021-09-16T13:29:06.95212Z",
     "shell.execute_reply.started": "2021-09-16T13:29:06.93143Z"
    }
   },
   "outputs": [
    {
     "data": {
      "text/html": [
       "<div>\n",
       "<style scoped>\n",
       "    .dataframe tbody tr th:only-of-type {\n",
       "        vertical-align: middle;\n",
       "    }\n",
       "\n",
       "    .dataframe tbody tr th {\n",
       "        vertical-align: top;\n",
       "    }\n",
       "\n",
       "    .dataframe thead th {\n",
       "        text-align: right;\n",
       "    }\n",
       "</style>\n",
       "<table border=\"1\" class=\"dataframe\">\n",
       "  <thead>\n",
       "    <tr style=\"text-align: right;\">\n",
       "      <th></th>\n",
       "      <th>longitude</th>\n",
       "      <th>latitude</th>\n",
       "      <th>housing_median_age</th>\n",
       "      <th>total_rooms</th>\n",
       "      <th>total_bedrooms</th>\n",
       "      <th>population</th>\n",
       "      <th>households</th>\n",
       "      <th>median_income</th>\n",
       "      <th>ocean_proximity</th>\n",
       "    </tr>\n",
       "  </thead>\n",
       "  <tbody>\n",
       "    <tr>\n",
       "      <th>0</th>\n",
       "      <td>-122.23</td>\n",
       "      <td>37.88</td>\n",
       "      <td>41.0</td>\n",
       "      <td>880.0</td>\n",
       "      <td>129.0</td>\n",
       "      <td>322.0</td>\n",
       "      <td>126.0</td>\n",
       "      <td>8.3252</td>\n",
       "      <td>3</td>\n",
       "    </tr>\n",
       "    <tr>\n",
       "      <th>1</th>\n",
       "      <td>-122.22</td>\n",
       "      <td>37.86</td>\n",
       "      <td>21.0</td>\n",
       "      <td>7099.0</td>\n",
       "      <td>1106.0</td>\n",
       "      <td>2401.0</td>\n",
       "      <td>1138.0</td>\n",
       "      <td>8.3014</td>\n",
       "      <td>3</td>\n",
       "    </tr>\n",
       "    <tr>\n",
       "      <th>2</th>\n",
       "      <td>-122.24</td>\n",
       "      <td>37.85</td>\n",
       "      <td>52.0</td>\n",
       "      <td>1467.0</td>\n",
       "      <td>190.0</td>\n",
       "      <td>496.0</td>\n",
       "      <td>177.0</td>\n",
       "      <td>7.2574</td>\n",
       "      <td>3</td>\n",
       "    </tr>\n",
       "    <tr>\n",
       "      <th>3</th>\n",
       "      <td>-122.25</td>\n",
       "      <td>37.85</td>\n",
       "      <td>52.0</td>\n",
       "      <td>1274.0</td>\n",
       "      <td>235.0</td>\n",
       "      <td>558.0</td>\n",
       "      <td>219.0</td>\n",
       "      <td>5.6431</td>\n",
       "      <td>3</td>\n",
       "    </tr>\n",
       "    <tr>\n",
       "      <th>4</th>\n",
       "      <td>-122.25</td>\n",
       "      <td>37.85</td>\n",
       "      <td>52.0</td>\n",
       "      <td>1627.0</td>\n",
       "      <td>280.0</td>\n",
       "      <td>565.0</td>\n",
       "      <td>259.0</td>\n",
       "      <td>3.8462</td>\n",
       "      <td>3</td>\n",
       "    </tr>\n",
       "  </tbody>\n",
       "</table>\n",
       "</div>"
      ],
      "text/plain": [
       "   longitude  latitude  housing_median_age  total_rooms  total_bedrooms  \\\n",
       "0    -122.23     37.88                41.0        880.0           129.0   \n",
       "1    -122.22     37.86                21.0       7099.0          1106.0   \n",
       "2    -122.24     37.85                52.0       1467.0           190.0   \n",
       "3    -122.25     37.85                52.0       1274.0           235.0   \n",
       "4    -122.25     37.85                52.0       1627.0           280.0   \n",
       "\n",
       "   population  households  median_income  ocean_proximity  \n",
       "0       322.0       126.0         8.3252                3  \n",
       "1      2401.0      1138.0         8.3014                3  \n",
       "2       496.0       177.0         7.2574                3  \n",
       "3       558.0       219.0         5.6431                3  \n",
       "4       565.0       259.0         3.8462                3  "
      ]
     },
     "execution_count": 17,
     "metadata": {},
     "output_type": "execute_result"
    }
   ],
   "source": [
    "df.head()"
   ]
  },
  {
   "cell_type": "code",
   "execution_count": 18,
   "metadata": {
    "execution": {
     "iopub.execute_input": "2021-09-16T13:29:06.954178Z",
     "iopub.status.busy": "2021-09-16T13:29:06.953967Z",
     "iopub.status.idle": "2021-09-16T13:29:06.965027Z",
     "shell.execute_reply": "2021-09-16T13:29:06.964331Z",
     "shell.execute_reply.started": "2021-09-16T13:29:06.954155Z"
    }
   },
   "outputs": [
    {
     "data": {
      "text/plain": [
       "array(['longitude', 'latitude', 'housing_median_age', 'total_rooms',\n",
       "       'total_bedrooms', 'population', 'households', 'median_income',\n",
       "       'ocean_proximity'], dtype=object)"
      ]
     },
     "execution_count": 18,
     "metadata": {},
     "output_type": "execute_result"
    }
   ],
   "source": [
    "df.columns.values"
   ]
  },
  {
   "cell_type": "code",
   "execution_count": 19,
   "metadata": {
    "execution": {
     "iopub.execute_input": "2021-09-16T13:29:06.966521Z",
     "iopub.status.busy": "2021-09-16T13:29:06.966304Z",
     "iopub.status.idle": "2021-09-16T13:29:06.977533Z",
     "shell.execute_reply": "2021-09-16T13:29:06.976719Z",
     "shell.execute_reply.started": "2021-09-16T13:29:06.966493Z"
    }
   },
   "outputs": [],
   "source": [
    "from sklearn import preprocessing "
   ]
  },
  {
   "cell_type": "code",
   "execution_count": 20,
   "metadata": {
    "execution": {
     "iopub.execute_input": "2021-09-16T13:29:06.979526Z",
     "iopub.status.busy": "2021-09-16T13:29:06.97905Z",
     "iopub.status.idle": "2021-09-16T13:29:07.007808Z",
     "shell.execute_reply": "2021-09-16T13:29:07.007045Z",
     "shell.execute_reply.started": "2021-09-16T13:29:06.979487Z"
    }
   },
   "outputs": [
    {
     "data": {
      "text/html": [
       "<div>\n",
       "<style scoped>\n",
       "    .dataframe tbody tr th:only-of-type {\n",
       "        vertical-align: middle;\n",
       "    }\n",
       "\n",
       "    .dataframe tbody tr th {\n",
       "        vertical-align: top;\n",
       "    }\n",
       "\n",
       "    .dataframe thead th {\n",
       "        text-align: right;\n",
       "    }\n",
       "</style>\n",
       "<table border=\"1\" class=\"dataframe\">\n",
       "  <thead>\n",
       "    <tr style=\"text-align: right;\">\n",
       "      <th></th>\n",
       "      <th>longitude</th>\n",
       "      <th>latitude</th>\n",
       "      <th>housing_median_age</th>\n",
       "      <th>total_rooms</th>\n",
       "      <th>total_bedrooms</th>\n",
       "      <th>population</th>\n",
       "      <th>households</th>\n",
       "      <th>median_income</th>\n",
       "      <th>ocean_proximity</th>\n",
       "    </tr>\n",
       "  </thead>\n",
       "  <tbody>\n",
       "    <tr>\n",
       "      <th>0</th>\n",
       "      <td>0.211155</td>\n",
       "      <td>0.567481</td>\n",
       "      <td>0.784314</td>\n",
       "      <td>0.022331</td>\n",
       "      <td>0.019863</td>\n",
       "      <td>0.008941</td>\n",
       "      <td>0.020556</td>\n",
       "      <td>0.539668</td>\n",
       "      <td>3</td>\n",
       "    </tr>\n",
       "    <tr>\n",
       "      <th>1</th>\n",
       "      <td>0.212151</td>\n",
       "      <td>0.565356</td>\n",
       "      <td>0.392157</td>\n",
       "      <td>0.180503</td>\n",
       "      <td>0.171477</td>\n",
       "      <td>0.067210</td>\n",
       "      <td>0.186976</td>\n",
       "      <td>0.538027</td>\n",
       "      <td>3</td>\n",
       "    </tr>\n",
       "    <tr>\n",
       "      <th>2</th>\n",
       "      <td>0.210159</td>\n",
       "      <td>0.564293</td>\n",
       "      <td>1.000000</td>\n",
       "      <td>0.037260</td>\n",
       "      <td>0.029330</td>\n",
       "      <td>0.013818</td>\n",
       "      <td>0.028943</td>\n",
       "      <td>0.466028</td>\n",
       "      <td>3</td>\n",
       "    </tr>\n",
       "    <tr>\n",
       "      <th>3</th>\n",
       "      <td>0.209163</td>\n",
       "      <td>0.564293</td>\n",
       "      <td>1.000000</td>\n",
       "      <td>0.032352</td>\n",
       "      <td>0.036313</td>\n",
       "      <td>0.015555</td>\n",
       "      <td>0.035849</td>\n",
       "      <td>0.354699</td>\n",
       "      <td>3</td>\n",
       "    </tr>\n",
       "    <tr>\n",
       "      <th>4</th>\n",
       "      <td>0.209163</td>\n",
       "      <td>0.564293</td>\n",
       "      <td>1.000000</td>\n",
       "      <td>0.041330</td>\n",
       "      <td>0.043296</td>\n",
       "      <td>0.015752</td>\n",
       "      <td>0.042427</td>\n",
       "      <td>0.230776</td>\n",
       "      <td>3</td>\n",
       "    </tr>\n",
       "  </tbody>\n",
       "</table>\n",
       "</div>"
      ],
      "text/plain": [
       "   longitude  latitude  housing_median_age  total_rooms  total_bedrooms  \\\n",
       "0   0.211155  0.567481            0.784314     0.022331        0.019863   \n",
       "1   0.212151  0.565356            0.392157     0.180503        0.171477   \n",
       "2   0.210159  0.564293            1.000000     0.037260        0.029330   \n",
       "3   0.209163  0.564293            1.000000     0.032352        0.036313   \n",
       "4   0.209163  0.564293            1.000000     0.041330        0.043296   \n",
       "\n",
       "   population  households  median_income  ocean_proximity  \n",
       "0    0.008941    0.020556       0.539668                3  \n",
       "1    0.067210    0.186976       0.538027                3  \n",
       "2    0.013818    0.028943       0.466028                3  \n",
       "3    0.015555    0.035849       0.354699                3  \n",
       "4    0.015752    0.042427       0.230776                3  "
      ]
     },
     "execution_count": 20,
     "metadata": {},
     "output_type": "execute_result"
    }
   ],
   "source": [
    "columns = ['longitude', 'latitude', 'housing_median_age', 'total_rooms','total_bedrooms', 'population', 'households', 'median_income']\n",
    "min_max = preprocessing.MinMaxScaler()\n",
    "df[columns] = min_max.fit_transform(df[columns])\n",
    "df.head()"
   ]
  },
  {
   "cell_type": "code",
   "execution_count": 21,
   "metadata": {
    "execution": {
     "iopub.execute_input": "2021-09-16T13:29:07.009687Z",
     "iopub.status.busy": "2021-09-16T13:29:07.008929Z",
     "iopub.status.idle": "2021-09-16T13:29:07.013743Z",
     "shell.execute_reply": "2021-09-16T13:29:07.012885Z",
     "shell.execute_reply.started": "2021-09-16T13:29:07.00965Z"
    }
   },
   "outputs": [],
   "source": [
    "from sklearn.metrics import r2_score"
   ]
  },
  {
   "cell_type": "code",
   "execution_count": 22,
   "metadata": {
    "execution": {
     "iopub.execute_input": "2021-09-16T13:29:07.014943Z",
     "iopub.status.busy": "2021-09-16T13:29:07.014725Z",
     "iopub.status.idle": "2021-09-16T13:29:07.028473Z",
     "shell.execute_reply": "2021-09-16T13:29:07.027806Z",
     "shell.execute_reply.started": "2021-09-16T13:29:07.01492Z"
    }
   },
   "outputs": [],
   "source": [
    "from sklearn.model_selection import train_test_split\n",
    "X_train, X_test, y_train, y_test = train_test_split(df,result, test_size=0.35, random_state=42)"
   ]
  },
  {
   "cell_type": "code",
   "execution_count": 23,
   "metadata": {
    "execution": {
     "iopub.execute_input": "2021-09-16T13:29:07.029761Z",
     "iopub.status.busy": "2021-09-16T13:29:07.02953Z",
     "iopub.status.idle": "2021-09-16T13:29:07.045703Z",
     "shell.execute_reply": "2021-09-16T13:29:07.04497Z",
     "shell.execute_reply.started": "2021-09-16T13:29:07.029736Z"
    }
   },
   "outputs": [
    {
     "data": {
      "text/plain": [
       "0.6321749563908341"
      ]
     },
     "execution_count": 23,
     "metadata": {},
     "output_type": "execute_result"
    }
   ],
   "source": [
    "from sklearn.linear_model import LinearRegression\n",
    "reg = LinearRegression().fit(X_train,y_train)\n",
    "reg.score(X_train,y_train)"
   ]
  },
  {
   "cell_type": "code",
   "execution_count": 24,
   "metadata": {
    "execution": {
     "iopub.execute_input": "2021-09-16T13:29:07.047629Z",
     "iopub.status.busy": "2021-09-16T13:29:07.046923Z",
     "iopub.status.idle": "2021-09-16T13:29:07.060211Z",
     "shell.execute_reply": "2021-09-16T13:29:07.05928Z",
     "shell.execute_reply.started": "2021-09-16T13:29:07.047588Z"
    }
   },
   "outputs": [],
   "source": [
    "class LinearRegression() :\n",
    "      \n",
    "    def __init__( self, learning_rate, iterations ) :\n",
    "        self.learning_rate = learning_rate  \n",
    "        self.iterations = iterations\n",
    "              \n",
    "    def fit( self, X, Y ) :\n",
    "        self.m, self.n = X.shape\n",
    "        self.W = np.random.randn( self.n )\n",
    "        self.b = np.random.randn()  \n",
    "        self.X = X\n",
    "        self.Y = Y\n",
    "        \n",
    "        for i in range( self.iterations ) :\n",
    "            self.update_weights()\n",
    "        \n",
    "        return self\n",
    "        \n",
    "    def update_weights( self ) :\n",
    "        Y_pred = self.predict( self.X )\n",
    "        dW = - ( 2 * ( self.X.T ).dot( self.Y - Y_pred )  ) / self.m\n",
    "        db = - 2 * np.sum( self.Y - Y_pred ) / self.m \n",
    "        self.W = self.W - self.learning_rate * dW\n",
    "        self.b = self.b - self.learning_rate * db\n",
    "          \n",
    "        return self \n",
    "      \n",
    "    def predict( self, X ) :\n",
    "        return X.dot( self.W ) + self.b"
   ]
  },
  {
   "cell_type": "code",
   "execution_count": 25,
   "metadata": {
    "execution": {
     "iopub.execute_input": "2021-09-16T13:29:07.062194Z",
     "iopub.status.busy": "2021-09-16T13:29:07.061433Z",
     "iopub.status.idle": "2021-09-16T13:29:42.229826Z",
     "shell.execute_reply": "2021-09-16T13:29:42.228871Z",
     "shell.execute_reply.started": "2021-09-16T13:29:07.062149Z"
    }
   },
   "outputs": [],
   "source": [
    "    model = LinearRegression( iterations = 10000, learning_rate = 0.3 )\n",
    "  \n",
    "    model.fit( X_train, y_train )\n",
    "      \n",
    "    # Prediction on test set\n",
    "  \n",
    "    Y_pred = model.predict( X_test )"
   ]
  },
  {
   "cell_type": "code",
   "execution_count": 26,
   "metadata": {
    "execution": {
     "iopub.execute_input": "2021-09-16T13:29:42.235183Z",
     "iopub.status.busy": "2021-09-16T13:29:42.234681Z",
     "iopub.status.idle": "2021-09-16T13:29:42.251354Z",
     "shell.execute_reply": "2021-09-16T13:29:42.250633Z",
     "shell.execute_reply.started": "2021-09-16T13:29:42.23514Z"
    }
   },
   "outputs": [
    {
     "name": "stdout",
     "output_type": "stream",
     "text": [
      "Predicted values  14416    203451.48\n",
      "16383    160043.08\n",
      "7731     202128.05\n",
      "dtype: float64\n",
      "Real values       [245800. 137900. 218200.]\n",
      "Trained W         -343989.04\n",
      "Trained b         297268.06\n"
     ]
    }
   ],
   "source": [
    "print( \"Predicted values \", np.round( Y_pred[:3], 2 ) ) \n",
    "print( \"Real values      \", y_test[:3] )\n",
    "print( \"Trained W        \", round( model.W[0], 2 ) )\n",
    "print( \"Trained b        \", round( model.b, 2 ) )"
   ]
  },
  {
   "cell_type": "code",
   "execution_count": 27,
   "metadata": {
    "execution": {
     "iopub.execute_input": "2021-09-16T13:29:42.258287Z",
     "iopub.status.busy": "2021-09-16T13:29:42.255865Z",
     "iopub.status.idle": "2021-09-16T13:29:42.264196Z",
     "shell.execute_reply": "2021-09-16T13:29:42.263415Z",
     "shell.execute_reply.started": "2021-09-16T13:29:42.258236Z"
    }
   },
   "outputs": [],
   "source": [
    "from sklearn.metrics import mean_squared_error"
   ]
  },
  {
   "cell_type": "code",
   "execution_count": 28,
   "metadata": {
    "execution": {
     "iopub.execute_input": "2021-09-16T13:29:42.271105Z",
     "iopub.status.busy": "2021-09-16T13:29:42.268575Z",
     "iopub.status.idle": "2021-09-16T13:29:42.282146Z",
     "shell.execute_reply": "2021-09-16T13:29:42.281239Z",
     "shell.execute_reply.started": "2021-09-16T13:29:42.271049Z"
    }
   },
   "outputs": [
    {
     "data": {
      "text/plain": [
       "0.42607897780558635"
      ]
     },
     "execution_count": 28,
     "metadata": {},
     "output_type": "execute_result"
    }
   ],
   "source": [
    "r2_score(Y_pred,y_test)"
   ]
  },
  {
   "cell_type": "code",
   "execution_count": 29,
   "metadata": {
    "execution": {
     "iopub.execute_input": "2021-09-16T13:29:42.286844Z",
     "iopub.status.busy": "2021-09-16T13:29:42.286424Z",
     "iopub.status.idle": "2021-09-16T13:29:42.31724Z",
     "shell.execute_reply": "2021-09-16T13:29:42.316544Z",
     "shell.execute_reply.started": "2021-09-16T13:29:42.286803Z"
    }
   },
   "outputs": [
    {
     "data": {
      "text/html": [
       "<div>\n",
       "<style scoped>\n",
       "    .dataframe tbody tr th:only-of-type {\n",
       "        vertical-align: middle;\n",
       "    }\n",
       "\n",
       "    .dataframe tbody tr th {\n",
       "        vertical-align: top;\n",
       "    }\n",
       "\n",
       "    .dataframe thead th {\n",
       "        text-align: right;\n",
       "    }\n",
       "</style>\n",
       "<table border=\"1\" class=\"dataframe\">\n",
       "  <thead>\n",
       "    <tr style=\"text-align: right;\">\n",
       "      <th></th>\n",
       "      <th>longitude</th>\n",
       "      <th>latitude</th>\n",
       "      <th>housing_median_age</th>\n",
       "      <th>total_rooms</th>\n",
       "      <th>total_bedrooms</th>\n",
       "      <th>population</th>\n",
       "      <th>households</th>\n",
       "      <th>median_income</th>\n",
       "      <th>ocean_proximity</th>\n",
       "    </tr>\n",
       "  </thead>\n",
       "  <tbody>\n",
       "    <tr>\n",
       "      <th>14416</th>\n",
       "      <td>0.708167</td>\n",
       "      <td>0.026567</td>\n",
       "      <td>0.372549</td>\n",
       "      <td>0.024391</td>\n",
       "      <td>0.042986</td>\n",
       "      <td>0.014630</td>\n",
       "      <td>0.041605</td>\n",
       "      <td>0.185094</td>\n",
       "      <td>2</td>\n",
       "    </tr>\n",
       "    <tr>\n",
       "      <th>16383</th>\n",
       "      <td>0.304781</td>\n",
       "      <td>0.581296</td>\n",
       "      <td>0.019608</td>\n",
       "      <td>0.162801</td>\n",
       "      <td>0.173029</td>\n",
       "      <td>0.093164</td>\n",
       "      <td>0.157211</td>\n",
       "      <td>0.274976</td>\n",
       "      <td>0</td>\n",
       "    </tr>\n",
       "    <tr>\n",
       "      <th>7731</th>\n",
       "      <td>0.618526</td>\n",
       "      <td>0.146652</td>\n",
       "      <td>0.588235</td>\n",
       "      <td>0.094842</td>\n",
       "      <td>0.132216</td>\n",
       "      <td>0.064744</td>\n",
       "      <td>0.131557</td>\n",
       "      <td>0.187846</td>\n",
       "      <td>1</td>\n",
       "    </tr>\n",
       "    <tr>\n",
       "      <th>1410</th>\n",
       "      <td>0.227092</td>\n",
       "      <td>0.573858</td>\n",
       "      <td>0.568627</td>\n",
       "      <td>0.031996</td>\n",
       "      <td>0.042675</td>\n",
       "      <td>0.019731</td>\n",
       "      <td>0.036178</td>\n",
       "      <td>0.164970</td>\n",
       "      <td>3</td>\n",
       "    </tr>\n",
       "    <tr>\n",
       "      <th>1335</th>\n",
       "      <td>0.245020</td>\n",
       "      <td>0.579171</td>\n",
       "      <td>0.058824</td>\n",
       "      <td>0.055166</td>\n",
       "      <td>0.092489</td>\n",
       "      <td>0.025926</td>\n",
       "      <td>0.075645</td>\n",
       "      <td>0.248390</td>\n",
       "      <td>0</td>\n",
       "    </tr>\n",
       "    <tr>\n",
       "      <th>...</th>\n",
       "      <td>...</td>\n",
       "      <td>...</td>\n",
       "      <td>...</td>\n",
       "      <td>...</td>\n",
       "      <td>...</td>\n",
       "      <td>...</td>\n",
       "      <td>...</td>\n",
       "      <td>...</td>\n",
       "      <td>...</td>\n",
       "    </tr>\n",
       "    <tr>\n",
       "      <th>17343</th>\n",
       "      <td>0.392430</td>\n",
       "      <td>0.246546</td>\n",
       "      <td>0.274510</td>\n",
       "      <td>0.024823</td>\n",
       "      <td>0.028864</td>\n",
       "      <td>0.011323</td>\n",
       "      <td>0.029765</td>\n",
       "      <td>0.267245</td>\n",
       "      <td>1</td>\n",
       "    </tr>\n",
       "    <tr>\n",
       "      <th>9474</th>\n",
       "      <td>0.102590</td>\n",
       "      <td>0.731137</td>\n",
       "      <td>0.411765</td>\n",
       "      <td>0.052978</td>\n",
       "      <td>0.066884</td>\n",
       "      <td>0.031671</td>\n",
       "      <td>0.065943</td>\n",
       "      <td>0.130391</td>\n",
       "      <td>1</td>\n",
       "    </tr>\n",
       "    <tr>\n",
       "      <th>13295</th>\n",
       "      <td>0.668327</td>\n",
       "      <td>0.162593</td>\n",
       "      <td>0.823529</td>\n",
       "      <td>0.050053</td>\n",
       "      <td>0.058659</td>\n",
       "      <td>0.028953</td>\n",
       "      <td>0.064134</td>\n",
       "      <td>0.186784</td>\n",
       "      <td>0</td>\n",
       "    </tr>\n",
       "    <tr>\n",
       "      <th>20480</th>\n",
       "      <td>0.562749</td>\n",
       "      <td>0.184910</td>\n",
       "      <td>0.470588</td>\n",
       "      <td>0.060405</td>\n",
       "      <td>0.076040</td>\n",
       "      <td>0.033549</td>\n",
       "      <td>0.072028</td>\n",
       "      <td>0.290230</td>\n",
       "      <td>1</td>\n",
       "    </tr>\n",
       "    <tr>\n",
       "      <th>19267</th>\n",
       "      <td>0.160359</td>\n",
       "      <td>0.626993</td>\n",
       "      <td>0.313725</td>\n",
       "      <td>0.058116</td>\n",
       "      <td>0.076971</td>\n",
       "      <td>0.034670</td>\n",
       "      <td>0.080908</td>\n",
       "      <td>0.212728</td>\n",
       "      <td>1</td>\n",
       "    </tr>\n",
       "  </tbody>\n",
       "</table>\n",
       "<p>7152 rows × 9 columns</p>\n",
       "</div>"
      ],
      "text/plain": [
       "       longitude  latitude  housing_median_age  total_rooms  total_bedrooms  \\\n",
       "14416   0.708167  0.026567            0.372549     0.024391        0.042986   \n",
       "16383   0.304781  0.581296            0.019608     0.162801        0.173029   \n",
       "7731    0.618526  0.146652            0.588235     0.094842        0.132216   \n",
       "1410    0.227092  0.573858            0.568627     0.031996        0.042675   \n",
       "1335    0.245020  0.579171            0.058824     0.055166        0.092489   \n",
       "...          ...       ...                 ...          ...             ...   \n",
       "17343   0.392430  0.246546            0.274510     0.024823        0.028864   \n",
       "9474    0.102590  0.731137            0.411765     0.052978        0.066884   \n",
       "13295   0.668327  0.162593            0.823529     0.050053        0.058659   \n",
       "20480   0.562749  0.184910            0.470588     0.060405        0.076040   \n",
       "19267   0.160359  0.626993            0.313725     0.058116        0.076971   \n",
       "\n",
       "       population  households  median_income  ocean_proximity  \n",
       "14416    0.014630    0.041605       0.185094                2  \n",
       "16383    0.093164    0.157211       0.274976                0  \n",
       "7731     0.064744    0.131557       0.187846                1  \n",
       "1410     0.019731    0.036178       0.164970                3  \n",
       "1335     0.025926    0.075645       0.248390                0  \n",
       "...           ...         ...            ...              ...  \n",
       "17343    0.011323    0.029765       0.267245                1  \n",
       "9474     0.031671    0.065943       0.130391                1  \n",
       "13295    0.028953    0.064134       0.186784                0  \n",
       "20480    0.033549    0.072028       0.290230                1  \n",
       "19267    0.034670    0.080908       0.212728                1  \n",
       "\n",
       "[7152 rows x 9 columns]"
      ]
     },
     "execution_count": 29,
     "metadata": {},
     "output_type": "execute_result"
    }
   ],
   "source": [
    "X_test"
   ]
  },
  {
   "cell_type": "code",
   "execution_count": 30,
   "metadata": {
    "execution": {
     "iopub.execute_input": "2021-09-16T13:29:42.323422Z",
     "iopub.status.busy": "2021-09-16T13:29:42.321368Z",
     "iopub.status.idle": "2021-09-16T13:29:42.333745Z",
     "shell.execute_reply": "2021-09-16T13:29:42.333044Z",
     "shell.execute_reply.started": "2021-09-16T13:29:42.323374Z"
    }
   },
   "outputs": [
    {
     "data": {
      "text/plain": [
       "4671263994.414591"
      ]
     },
     "execution_count": 30,
     "metadata": {},
     "output_type": "execute_result"
    }
   ],
   "source": [
    "mean_squared_error(y_test, Y_pred)"
   ]
  },
  {
   "cell_type": "code",
   "execution_count": 31,
   "metadata": {
    "execution": {
     "iopub.execute_input": "2021-09-16T13:29:42.340509Z",
     "iopub.status.busy": "2021-09-16T13:29:42.338235Z",
     "iopub.status.idle": "2021-09-16T13:29:42.350575Z",
     "shell.execute_reply": "2021-09-16T13:29:42.35007Z",
     "shell.execute_reply.started": "2021-09-16T13:29:42.340458Z"
    }
   },
   "outputs": [
    {
     "data": {
      "text/plain": [
       "68346.64581685477"
      ]
     },
     "execution_count": 31,
     "metadata": {},
     "output_type": "execute_result"
    }
   ],
   "source": [
    "mean_squared_error(y_test, Y_pred, squared=False)"
   ]
  },
  {
   "cell_type": "code",
   "execution_count": 32,
   "metadata": {
    "execution": {
     "iopub.execute_input": "2021-09-16T13:29:42.352456Z",
     "iopub.status.busy": "2021-09-16T13:29:42.351727Z",
     "iopub.status.idle": "2021-09-16T13:29:42.362868Z",
     "shell.execute_reply": "2021-09-16T13:29:42.362169Z",
     "shell.execute_reply.started": "2021-09-16T13:29:42.352419Z"
    }
   },
   "outputs": [],
   "source": [
    "class LinearRegression:\n",
    "    \n",
    "    def cost_function(self, X, y, weights,b):                 \n",
    "        z = np.dot(X, weights)+b\n",
    "        cost = (y-z)**2\n",
    "        return sum(cost)\n",
    "    \n",
    "    def fit(self, X, y, epochs=25, lr=0.005):        \n",
    "        loss = []\n",
    "        weights = np.zeros((X.shape[1],1))\n",
    "        b = 0\n",
    "        i=0\n",
    "        y = y.reshape(-1,1)\n",
    "        N = 1/len(X)\n",
    "                 \n",
    "        for _ in range(epochs):        \n",
    "            y_hat = np.dot(X, weights)+b\n",
    "            weights -= lr *2* np.dot(X.T,(y - y_hat))*N   \n",
    "            b -= lr*2*np.sum(y - y_hat)*N\n",
    "            loss.append(self.cost_function(X, y, weights,b)) \n",
    "            \n",
    "        self.weights = weights\n",
    "        self.loss = loss\n",
    "        self.b = b\n",
    "        return weights,b\n",
    "    \n",
    "    def predict(self,X,weights,b):        \n",
    "        z = np.dot(X,weights)+b\n",
    "        return  z"
   ]
  },
  {
   "cell_type": "code",
   "execution_count": 33,
   "metadata": {
    "execution": {
     "iopub.execute_input": "2021-09-16T13:29:42.364319Z",
     "iopub.status.busy": "2021-09-16T13:29:42.363899Z",
     "iopub.status.idle": "2021-09-16T13:29:42.372044Z",
     "shell.execute_reply": "2021-09-16T13:29:42.371341Z",
     "shell.execute_reply.started": "2021-09-16T13:29:42.364291Z"
    }
   },
   "outputs": [],
   "source": [
    "from sklearn.metrics import accuracy_score"
   ]
  },
  {
   "cell_type": "code",
   "execution_count": 34,
   "metadata": {
    "execution": {
     "iopub.execute_input": "2021-09-16T13:29:42.373181Z",
     "iopub.status.busy": "2021-09-16T13:29:42.372938Z",
     "iopub.status.idle": "2021-09-16T13:30:11.823103Z",
     "shell.execute_reply": "2021-09-16T13:30:11.822215Z",
     "shell.execute_reply.started": "2021-09-16T13:29:42.373158Z"
    }
   },
   "outputs": [],
   "source": [
    "clf = LinearRegression()\n",
    "w,b=clf.fit(X_train,y_train,1000,1e-5)\n",
    "pred = clf.predict(X_test,w,b)"
   ]
  },
  {
   "cell_type": "code",
   "execution_count": 35,
   "metadata": {
    "execution": {
     "iopub.execute_input": "2021-09-16T13:30:11.827651Z",
     "iopub.status.busy": "2021-09-16T13:30:11.827155Z",
     "iopub.status.idle": "2021-09-16T13:30:11.834966Z",
     "shell.execute_reply": "2021-09-16T13:30:11.83424Z",
     "shell.execute_reply.started": "2021-09-16T13:30:11.827616Z"
    }
   },
   "outputs": [
    {
     "data": {
      "text/plain": [
       "-2316.986055283792"
      ]
     },
     "execution_count": 35,
     "metadata": {},
     "output_type": "execute_result"
    }
   ],
   "source": [
    "from sklearn.metrics import r2_score\n",
    "r2_score(pred,y_test)"
   ]
  },
  {
   "cell_type": "code",
   "execution_count": 36,
   "metadata": {
    "execution": {
     "iopub.execute_input": "2021-09-16T13:30:11.836653Z",
     "iopub.status.busy": "2021-09-16T13:30:11.836199Z",
     "iopub.status.idle": "2021-09-16T13:30:11.844714Z",
     "shell.execute_reply": "2021-09-16T13:30:11.843979Z",
     "shell.execute_reply.started": "2021-09-16T13:30:11.836617Z"
    }
   },
   "outputs": [],
   "source": [
    "pred = clf.predict(X_train,w,b)"
   ]
  },
  {
   "cell_type": "code",
   "execution_count": 37,
   "metadata": {
    "execution": {
     "iopub.execute_input": "2021-09-16T13:30:11.846471Z",
     "iopub.status.busy": "2021-09-16T13:30:11.845941Z",
     "iopub.status.idle": "2021-09-16T13:30:11.85688Z",
     "shell.execute_reply": "2021-09-16T13:30:11.856089Z",
     "shell.execute_reply.started": "2021-09-16T13:30:11.846434Z"
    }
   },
   "outputs": [
    {
     "data": {
      "text/plain": [
       "-2308.61194072142"
      ]
     },
     "execution_count": 37,
     "metadata": {},
     "output_type": "execute_result"
    }
   ],
   "source": [
    "r2_score(pred,y_train)"
   ]
  },
  {
   "cell_type": "code",
   "execution_count": null,
   "metadata": {},
   "outputs": [],
   "source": []
  }
 ],
 "metadata": {
  "kernelspec": {
   "display_name": "Python 3",
   "language": "python",
   "name": "python3"
  },
  "language_info": {
   "codemirror_mode": {
    "name": "ipython",
    "version": 3
   },
   "file_extension": ".py",
   "mimetype": "text/x-python",
   "name": "python",
   "nbconvert_exporter": "python",
   "pygments_lexer": "ipython3",
   "version": "3.8.8"
  }
 },
 "nbformat": 4,
 "nbformat_minor": 4
}
